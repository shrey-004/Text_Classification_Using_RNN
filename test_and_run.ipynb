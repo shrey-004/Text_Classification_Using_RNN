{
 "cells": [
  {
   "cell_type": "code",
   "execution_count": 21,
   "id": "95e8ded8",
   "metadata": {},
   "outputs": [],
   "source": [
    "import numpy as np \n",
    "import pandas as pd"
   ]
  },
  {
   "cell_type": "code",
   "execution_count": 22,
   "id": "00e7a1a6",
   "metadata": {},
   "outputs": [
    {
     "name": "stdout",
     "output_type": "stream",
     "text": [
      "   UserName  ScreenName   Location     TweetAt  \\\n",
      "0      3799       48751     London  16-03-2020   \n",
      "1      3800       48752         UK  16-03-2020   \n",
      "2      3801       48753  Vagabonds  16-03-2020   \n",
      "3      3802       48754        NaN  16-03-2020   \n",
      "4      3803       48755        NaN  16-03-2020   \n",
      "\n",
      "                                       OriginalTweet           Sentiment  \n",
      "0  @MeNyrbie @Phil_Gahan @Chrisitv https://t.co/i...             Neutral  \n",
      "1  advice Talk to your neighbours family to excha...            Positive  \n",
      "2  Coronavirus Australia: Woolworths to give elde...            Positive  \n",
      "3  My food stock is not the only one which is emp...            Positive  \n",
      "4  Me, ready to go at supermarket during the #COV...  Extremely Negative  \n"
     ]
    }
   ],
   "source": [
    "df = pd.read_csv(\"Dataset/Corona_NLP_train.csv\", encoding='ISO-8859-1')\n",
    "print(df.head())\n"
   ]
  },
  {
   "cell_type": "code",
   "execution_count": 23,
   "id": "1080ae8c",
   "metadata": {},
   "outputs": [
    {
     "data": {
      "text/plain": [
       "Index(['UserName', 'ScreenName', 'Location', 'TweetAt', 'OriginalTweet',\n",
       "       'Sentiment'],\n",
       "      dtype='object')"
      ]
     },
     "execution_count": 23,
     "metadata": {},
     "output_type": "execute_result"
    }
   ],
   "source": [
    "df.columns"
   ]
  },
  {
   "cell_type": "code",
   "execution_count": 24,
   "id": "ee4bae2a",
   "metadata": {},
   "outputs": [
    {
     "data": {
      "application/vnd.microsoft.datawrangler.viewer.v0+json": {
       "columns": [
        {
         "name": "index",
         "rawType": "int64",
         "type": "integer"
        },
        {
         "name": "OriginalTweet",
         "rawType": "object",
         "type": "string"
        },
        {
         "name": "Sentiment",
         "rawType": "object",
         "type": "string"
        }
       ],
       "ref": "ed92eefe-973c-4673-a979-e7a0aae18b30",
       "rows": [
        [
         "0",
         "@MeNyrbie @Phil_Gahan @Chrisitv https://t.co/iFz9FAn2Pa and https://t.co/xX6ghGFzCC and https://t.co/I2NlzdxNo8",
         "Neutral"
        ],
        [
         "1",
         "advice Talk to your neighbours family to exchange phone numbers create contact list with phone numbers of neighbours schools employer chemist GP set up online shopping accounts if poss adequate supplies of regular meds but not over order",
         "Positive"
        ],
        [
         "2",
         "Coronavirus Australia: Woolworths to give elderly, disabled dedicated shopping hours amid COVID-19 outbreak https://t.co/bInCA9Vp8P",
         "Positive"
        ],
        [
         "3",
         "My food stock is not the only one which is empty...\r\r\n\r\r\nPLEASE, don't panic, THERE WILL BE ENOUGH FOOD FOR EVERYONE if you do not take more than you need. \r\r\nStay calm, stay safe.\r\r\n\r\r\n#COVID19france #COVID_19 #COVID19 #coronavirus #confinement #Confinementotal #ConfinementGeneral https://t.co/zrlG0Z520j",
         "Positive"
        ],
        [
         "4",
         "Me, ready to go at supermarket during the #COVID19 outbreak.\r\r\n\r\r\nNot because I'm paranoid, but because my food stock is litteraly empty. The #coronavirus is a serious thing, but please, don't panic. It causes shortage...\r\r\n\r\r\n#CoronavirusFrance #restezchezvous #StayAtHome #confinement https://t.co/usmuaLq72n",
         "Extremely Negative"
        ],
        [
         "5",
         "As news of the regionÂs first confirmed COVID-19 case came out of Sullivan County last week, people flocked to area stores to purchase cleaning supplies, hand sanitizer, food, toilet paper and other goods, @Tim_Dodson reports https://t.co/cfXch7a2lU",
         "Positive"
        ],
        [
         "6",
         "Cashier at grocery store was sharing his insights on #Covid_19 To prove his credibility he commented \"I'm in Civics class so I know what I'm talking about\". https://t.co/ieFDNeHgDO",
         "Positive"
        ],
        [
         "7",
         "Was at the supermarket today. Didn't buy toilet paper. #Rebel\r\r\n\r\r\n#toiletpapercrisis #covid_19 https://t.co/eVXkQLIdAZ",
         "Neutral"
        ],
        [
         "8",
         "Due to COVID-19 our retail store and classroom in Atlanta will not be open for walk-in business or classes for the next two weeks, beginning Monday, March 16.  We will continue to process online and phone orders as normal! Thank you for your understanding! https://t.co/kw91zJ5O5i",
         "Positive"
        ],
        [
         "9",
         "For corona prevention,we should stop to buy things with the cash and should use online payment methods because corona can spread through the notes. Also we should prefer online shopping from our home. It's time to fight against COVID 19?. #govindia #IndiaFightsCorona",
         "Negative"
        ],
        [
         "10",
         "All month there hasn't been crowding in the supermarkets or restaurants, however reducing all the hours and closing the malls means everyone is now using the same entrance and dependent on a single supermarket. #manila #lockdown #covid2019 #Philippines https://t.co/HxWs9LAnF9",
         "Neutral"
        ],
        [
         "11",
         "Due to the Covid-19 situation, we have increased demand for all food products. \r\r\n\r\r\nThe wait time may be longer for all online orders, particularly beef share and freezer packs. \r\r\n\r\r\nWe thank you for your patience during this time.",
         "Extremely Positive"
        ],
        [
         "12",
         "#horningsea is a caring community. LetÂs ALL look after the less capable in our village and ensure they stay healthy. Bringing shopping to their doors, help with online shopping and self isolation if you have symptoms or been exposed to somebody who has. https://t.co/lsGrXXhjhh",
         "Extremely Positive"
        ],
        [
         "13",
         "Me: I don't need to stock up on food, I'll just have Amazon deliver whatever I need #CoronaVirus\r\r\n\r\r\nAmazon: https://t.co/8YWaKFjExC",
         "Positive"
        ],
        [
         "14",
         "ADARA Releases COVID-19 Resource Center for Travel Brands: Insights Help Travel Brands Stay Up-To-Date on Consumer Travel Behavior Trends https://t.co/PnA797jDKV https://t.co/dQox6uSihz",
         "Positive"
        ],
        [
         "15",
         "Lines at the grocery store have been unpredictable, but is eating out a safe alternative? \r\r\n\r\r\nFind out more about whether you should be avoiding restaurants right now:  https://t.co/9idZSis5oQ\r\r\n\r\r\n#coronavirus #covid19 https://t.co/ZHbh898lf6",
         "Positive"
        ],
        [
         "16",
         "????? ????? ????? ????? ??\r\r\n?????? ????? ??????? ????????? ?\r\r\n#????_???? ????? ???? ?????? ? #????????? ?????? ?? 13 ???? ?? ?? ???? ?????? ?? ??\r\r\n#???_???????? ????? ??? ???? ? https://t.co/51bL8P6vZh",
         "Neutral"
        ],
        [
         "17",
         "@eyeonthearctic 16MAR20 Russia consumer surveillance watchdog reported case in high Arctic where a man who traveled to Iran has COVID-19 and 101 are \"observed\"\r\r\nhttps://t.co/4WnrrK9oKC https://t.co/ld05k5Eyns",
         "Neutral"
        ],
        [
         "18",
         "Amazon Glitch Stymies Whole Foods, Fresh Grocery Deliveries\r\r\nÂAs COVID-19 has spread, weÂve seen a significant increase in people shopping online for groceries,Â a spokeswoman said in a statement. ÂToday this resulted in a systems impact affecting our ...\r\r\n https://t.co/TbzZ2MC3b3",
         "Extremely Positive"
        ],
        [
         "19",
         "For those who aren't struggling, please consider donating to a food bank or a nonprofit. The demand for these services will increase as COVID-19 impacts jobs, and people's way of life.",
         "Positive"
        ],
        [
         "20",
         "with 100  nations inficted with  covid  19  the world must  not  play fair with china  100 goverments must demand  china  adopts new guilde  lines on food safty  the  chinese  goverment  is guilty of  being  irosponcible   with life  on a global scale",
         "Extremely Negative"
        ],
        [
         "21",
         "https://t.co/AVKrR9syff\r\r\n\r\r\nThe COVID-19 coronavirus pandemic is impacting consumer shopping behavior, purchase decisions and retail sales, according to a First Insight study.",
         "Neutral"
        ],
        [
         "22",
         "We have AMAZING CHEAP DEALS! FOR THE #COVID2019 going on to help you???\r\r\n#Trials\r\r\n#Monthly\r\r\n#Yearly \r\r\nAnd Resonable #Prices / #Subscriptions\r\r\nJust DM US! #bestiptv #iptv #Service #Iptv #iptvdeals #Cheap #ipTV #Football #HD #Movies #Adult #Cinema #hotmovies #iptvnew #iptv2020 #Adult",
         "Extremely Positive"
        ],
        [
         "23",
         "We have AMAZING CHEAP DEALS! FOR THE #COVID2019 going on to help you???\r\r\n#Trials\r\r\n#Monthly\r\r\n#Yearly \r\r\nAnd Resonable #Prices / #Subscriptions\r\r\nJust DM US! #bestiptv #iptv #Service #Iptv #iptvdeals #Cheap #ipTV #Football #HD #Movies #Adult #Cinema #hotmovies #ipTv IPTVLinks #18Movies",
         "Extremely Positive"
        ],
        [
         "24",
         "@10DowningStreet @grantshapps what is being done to ensure food and other essential products are being re-stocked at supermarkets and panic buying actively discouraged? It cannot be left to checkout staff to police the actions of the selfish and profiteer",
         "Negative"
        ],
        [
         "25",
         "UK #consumer poll indicates the majority expect #covid19's impact to last 4-12 months (at 12 March). We expect this to increase at the next #tracker... See full results of the @RetailX Coronavirus Consumer Confidence Tracker here: https://t.co/K3uJlcjqDB https://t.co/9G3kgqIXJ8",
         "Extremely Positive"
        ],
        [
         "26",
         "In preparation for higher demand and a potential food shortage, The Hunger Coalition purchased 10 percent more food and implemented new protocols due to the COVID-19 coronavirus. https://t.co/5CecYtLnYn",
         "Negative"
        ],
        [
         "27",
         "This morning I tested positive for Covid 19. I feel ok, I have no symptoms so far but have been isolated since I found out about my possible exposure to the virus.  Stay home people and be pragmatic. I will keep you updated on how IÂm doing ???? No panic. https://t.co/Lg7HVMZglZ",
         "Extremely Negative"
        ],
        [
         "28",
         "Do you see malicious price increases in NYC? The NYC Department of Consumer and Worker Protection (DCWP) has set up a page to digitally file a complaint. Click here: https://t.co/oEx6Y8mm2K\r\r\n\r\r\nTo file a complaint (use the word\"Overcharge\") https://t.co/MdMmoBttOP\r\r\n#COVID19 #CovidNYC",
         "Negative"
        ],
        [
         "29",
         "@7SealsOfTheEnd Soon with dwindling supplies unlawful Panicky people will be breaking into Closed Stores &amp; Supermarkets to Raid them as they normally do during a Crisis so massive as the #Coronavirus\r\r\n\r\r\n#StockUp&amp;LockUp",
         "Extremely Negative"
        ],
        [
         "30",
         "There Is of in the Country  The more empty shelves people see the more buying ensues the more food is out of stock",
         "Negative"
        ],
        [
         "31",
         "'Hole' Foods...\r\r\n\r\r\n...images from the nicest grocery store in one of the richest neighborhoods in the United States.\r\r\n\r\r\nhttps://t.co/WnQSoMtkVI\r\r\n\r\r\n#BreakingNews #Breaking #Coronavirus #CoronavirusOutbreak #COVID19 #COVID?19 #COVID_19 #COVID2019 #Collapse",
         "Extremely Positive"
        ],
        [
         "32",
         "Retail store closures could explode because of the #coronavirus (via @CNBC). #BrickAndMortar\r\r\n\r\r\nhttps://t.co/hQrYRNXFhv https://t.co/g5UZn06gb6",
         "Neutral"
        ],
        [
         "33",
         "Coronavirus fun fact: if you cough at the grocery store, you get the whole aisle to yourself pretty quickly.\r\r\n#CoronavirusOutbreak #coronavirus #COVID2019",
         "Extremely Positive"
        ],
        [
         "34",
         "We're sorry to say that our @FinFabUK event is being cancelled due to Covid-19. The health and wellbeing of our attendees, speakers and staff is our top priority. Apologies for any disappointment this may cause. All FAQs are answered in the link below:\r\r\nhttps://t.co/GDDPTudCvj",
         "Negative"
        ],
        [
         "35",
         "Went to the supermarket yesterday and the toilet paper was gone. Has this anything to do with the Corona virus? #COVID2019",
         "Neutral"
        ],
        [
         "36",
         "Yes, buy only what you need.\r\r\n\r\r\nBut what's the point of posting photos of those people in the supermarket with a load of stuff? They could be buying for all their elderly parents, kids, siblings, etc who can't buy for themselves\r\r\n\r\r\nNot everything needs to be viral, Covid-19 alr is",
         "Positive"
        ],
        [
         "37",
         "Worried about the impact of the current COVID-19 pandemic on your finances? WeÂve just published some tips to help you manage your money during these challenging times. #COVID19 https://t.co/3jKK3CqXfQ https://t.co/EbEnURmmJS",
         "Positive"
        ],
        [
         "38",
         "my wife works retail&amp;a customer came in yesterday, coughing everywhere, saying they have CoVid-19. They requested a deep clean of the store - her company objected to due to cost, recommending the team spray disinfectant&amp;clean themselves. we're gonna die/get sick due to capitalism",
         "Negative"
        ],
        [
         "39",
         "Now I can go to the supermarket like this without being judged! ? #CoronavirusOutbreak #COVID2019 https://t.co/krTCGiUHQS",
         "Positive"
        ],
        [
         "40",
         "We're here to provide a safe shopping experience for our customers and a healthy environment for our associates and community!\r\r\nOnline orders can be placed here: https://t.co/dCSXHUj3U0\r\r\n\r\r\n#jlmco #jlmcobrand #coronapocolypse #coronavirus #CoronavirusOutbreak  #COVID19 #shoponline https://t.co/riNKwskeRS",
         "Extremely Positive"
        ],
        [
         "41",
         "Curious,  do we think retail shoppers will do a lot of online shopping bc they're home and unable to go out or do we think everyone is too spooked to get that extra pair of shoes? #economy #onlineshopping #coronavirus #covid19 #stayhome",
         "Positive"
        ],
        [
         "42",
         "CHECK VIDEO ?? https://t.co/1ksn9Brl02 ??No food ? in USA market due to coronavirus panic we gonna die from starvation #CoronavirusOutbreak #coronavirus #houston #nofood #Notoiletpaper #NoHandShakes #nohandsanitizer #COVID19 #pandemic #totallockdown #COVID2019usa #walmart https://t.co/ztN3iMkgpD",
         "Extremely Negative"
        ],
        [
         "43",
         "Breaking Story: Online clothes shopping rises as people find mysterious white patches forming on clothes. #QuarantineLife #CoronavirusOutbreak #coronavirus #IMadeThisUp #FakeNews https://t.co/5Z24hptT9M",
         "Neutral"
        ],
        [
         "44",
         "This is the line outside  @Target  in as customers wait for the store to open this morning",
         "Neutral"
        ],
        [
         "45",
         "South Africans stock up on food, basic goods as coronavirus panic hits https://t.co/6nGNFJmy89\r\r\n\r\r\n#CoronaVirusSA \r\r\n#Covid_19 https://t.co/pzirO10avf",
         "Negative"
        ],
        [
         "46",
         " Please Share  Know someone who s 65 Living on their own struggling to get 2 their local supermarket due to issues around 19 We re offering FREE deliveries of our healthy soups NATIONWIDE to anyone 65 in need Plus their freezable",
         "Extremely Positive"
        ],
        [
         "47",
         "People posting and sharing photos of of half to completely empty shelves calling those people \"dumb\" or \"idiots.\" All while shopping at the grocery store. lol\r\r\n\r\r\n#coronavirus #COVID19",
         "Positive"
        ],
        [
         "48",
         "Never thought I'd say this, but. 2019, Will you come back!? PLEASE! #coronavirus #COVID19 #peoplearelosingtheirminds #StopTheMadness #stoppanicbuying",
         "Extremely Positive"
        ],
        [
         "49",
         "COVID-19 restrictions sparking a run on cannabis stores\r\r\n\r\r\nThey're not closed yet! But Customers are stocking up on cannabis this weekend, preparing for what could be more retail store restrictions in coming days. https://t.co/WMqR8QWoiG",
         "Neutral"
        ]
       ],
       "shape": {
        "columns": 2,
        "rows": 41157
       }
      },
      "text/html": [
       "<div>\n",
       "<style scoped>\n",
       "    .dataframe tbody tr th:only-of-type {\n",
       "        vertical-align: middle;\n",
       "    }\n",
       "\n",
       "    .dataframe tbody tr th {\n",
       "        vertical-align: top;\n",
       "    }\n",
       "\n",
       "    .dataframe thead th {\n",
       "        text-align: right;\n",
       "    }\n",
       "</style>\n",
       "<table border=\"1\" class=\"dataframe\">\n",
       "  <thead>\n",
       "    <tr style=\"text-align: right;\">\n",
       "      <th></th>\n",
       "      <th>OriginalTweet</th>\n",
       "      <th>Sentiment</th>\n",
       "    </tr>\n",
       "  </thead>\n",
       "  <tbody>\n",
       "    <tr>\n",
       "      <th>0</th>\n",
       "      <td>@MeNyrbie @Phil_Gahan @Chrisitv https://t.co/i...</td>\n",
       "      <td>Neutral</td>\n",
       "    </tr>\n",
       "    <tr>\n",
       "      <th>1</th>\n",
       "      <td>advice Talk to your neighbours family to excha...</td>\n",
       "      <td>Positive</td>\n",
       "    </tr>\n",
       "    <tr>\n",
       "      <th>2</th>\n",
       "      <td>Coronavirus Australia: Woolworths to give elde...</td>\n",
       "      <td>Positive</td>\n",
       "    </tr>\n",
       "    <tr>\n",
       "      <th>3</th>\n",
       "      <td>My food stock is not the only one which is emp...</td>\n",
       "      <td>Positive</td>\n",
       "    </tr>\n",
       "    <tr>\n",
       "      <th>4</th>\n",
       "      <td>Me, ready to go at supermarket during the #COV...</td>\n",
       "      <td>Extremely Negative</td>\n",
       "    </tr>\n",
       "    <tr>\n",
       "      <th>...</th>\n",
       "      <td>...</td>\n",
       "      <td>...</td>\n",
       "    </tr>\n",
       "    <tr>\n",
       "      <th>41152</th>\n",
       "      <td>Airline pilots offering to stock supermarket s...</td>\n",
       "      <td>Neutral</td>\n",
       "    </tr>\n",
       "    <tr>\n",
       "      <th>41153</th>\n",
       "      <td>Response to complaint not provided citing COVI...</td>\n",
       "      <td>Extremely Negative</td>\n",
       "    </tr>\n",
       "    <tr>\n",
       "      <th>41154</th>\n",
       "      <td>You know itÂs getting tough when @KameronWild...</td>\n",
       "      <td>Positive</td>\n",
       "    </tr>\n",
       "    <tr>\n",
       "      <th>41155</th>\n",
       "      <td>Is it wrong that the smell of hand sanitizer i...</td>\n",
       "      <td>Neutral</td>\n",
       "    </tr>\n",
       "    <tr>\n",
       "      <th>41156</th>\n",
       "      <td>@TartiiCat Well new/used Rift S are going for ...</td>\n",
       "      <td>Negative</td>\n",
       "    </tr>\n",
       "  </tbody>\n",
       "</table>\n",
       "<p>41157 rows × 2 columns</p>\n",
       "</div>"
      ],
      "text/plain": [
       "                                           OriginalTweet           Sentiment\n",
       "0      @MeNyrbie @Phil_Gahan @Chrisitv https://t.co/i...             Neutral\n",
       "1      advice Talk to your neighbours family to excha...            Positive\n",
       "2      Coronavirus Australia: Woolworths to give elde...            Positive\n",
       "3      My food stock is not the only one which is emp...            Positive\n",
       "4      Me, ready to go at supermarket during the #COV...  Extremely Negative\n",
       "...                                                  ...                 ...\n",
       "41152  Airline pilots offering to stock supermarket s...             Neutral\n",
       "41153  Response to complaint not provided citing COVI...  Extremely Negative\n",
       "41154  You know itÂs getting tough when @KameronWild...            Positive\n",
       "41155  Is it wrong that the smell of hand sanitizer i...             Neutral\n",
       "41156  @TartiiCat Well new/used Rift S are going for ...            Negative\n",
       "\n",
       "[41157 rows x 2 columns]"
      ]
     },
     "execution_count": 24,
     "metadata": {},
     "output_type": "execute_result"
    }
   ],
   "source": [
    "df[[\"OriginalTweet\", \"Sentiment\"]]"
   ]
  },
  {
   "cell_type": "code",
   "execution_count": 25,
   "id": "a595232f",
   "metadata": {},
   "outputs": [],
   "source": [
    "df.drop(['UserName', 'ScreenName','Location', 'TweetAt'], axis=1, inplace=True)"
   ]
  },
  {
   "cell_type": "code",
   "execution_count": 26,
   "id": "a17a0aff",
   "metadata": {},
   "outputs": [
    {
     "data": {
      "application/vnd.microsoft.datawrangler.viewer.v0+json": {
       "columns": [
        {
         "name": "index",
         "rawType": "int64",
         "type": "integer"
        },
        {
         "name": "OriginalTweet",
         "rawType": "object",
         "type": "string"
        },
        {
         "name": "Sentiment",
         "rawType": "object",
         "type": "string"
        }
       ],
       "ref": "47961751-d384-4962-ac18-adb125973356",
       "rows": [
        [
         "0",
         "@MeNyrbie @Phil_Gahan @Chrisitv https://t.co/iFz9FAn2Pa and https://t.co/xX6ghGFzCC and https://t.co/I2NlzdxNo8",
         "Neutral"
        ],
        [
         "1",
         "advice Talk to your neighbours family to exchange phone numbers create contact list with phone numbers of neighbours schools employer chemist GP set up online shopping accounts if poss adequate supplies of regular meds but not over order",
         "Positive"
        ],
        [
         "2",
         "Coronavirus Australia: Woolworths to give elderly, disabled dedicated shopping hours amid COVID-19 outbreak https://t.co/bInCA9Vp8P",
         "Positive"
        ],
        [
         "3",
         "My food stock is not the only one which is empty...\r\r\n\r\r\nPLEASE, don't panic, THERE WILL BE ENOUGH FOOD FOR EVERYONE if you do not take more than you need. \r\r\nStay calm, stay safe.\r\r\n\r\r\n#COVID19france #COVID_19 #COVID19 #coronavirus #confinement #Confinementotal #ConfinementGeneral https://t.co/zrlG0Z520j",
         "Positive"
        ],
        [
         "4",
         "Me, ready to go at supermarket during the #COVID19 outbreak.\r\r\n\r\r\nNot because I'm paranoid, but because my food stock is litteraly empty. The #coronavirus is a serious thing, but please, don't panic. It causes shortage...\r\r\n\r\r\n#CoronavirusFrance #restezchezvous #StayAtHome #confinement https://t.co/usmuaLq72n",
         "Extremely Negative"
        ],
        [
         "5",
         "As news of the regionÂs first confirmed COVID-19 case came out of Sullivan County last week, people flocked to area stores to purchase cleaning supplies, hand sanitizer, food, toilet paper and other goods, @Tim_Dodson reports https://t.co/cfXch7a2lU",
         "Positive"
        ],
        [
         "6",
         "Cashier at grocery store was sharing his insights on #Covid_19 To prove his credibility he commented \"I'm in Civics class so I know what I'm talking about\". https://t.co/ieFDNeHgDO",
         "Positive"
        ],
        [
         "7",
         "Was at the supermarket today. Didn't buy toilet paper. #Rebel\r\r\n\r\r\n#toiletpapercrisis #covid_19 https://t.co/eVXkQLIdAZ",
         "Neutral"
        ],
        [
         "8",
         "Due to COVID-19 our retail store and classroom in Atlanta will not be open for walk-in business or classes for the next two weeks, beginning Monday, March 16.  We will continue to process online and phone orders as normal! Thank you for your understanding! https://t.co/kw91zJ5O5i",
         "Positive"
        ],
        [
         "9",
         "For corona prevention,we should stop to buy things with the cash and should use online payment methods because corona can spread through the notes. Also we should prefer online shopping from our home. It's time to fight against COVID 19?. #govindia #IndiaFightsCorona",
         "Negative"
        ],
        [
         "10",
         "All month there hasn't been crowding in the supermarkets or restaurants, however reducing all the hours and closing the malls means everyone is now using the same entrance and dependent on a single supermarket. #manila #lockdown #covid2019 #Philippines https://t.co/HxWs9LAnF9",
         "Neutral"
        ],
        [
         "11",
         "Due to the Covid-19 situation, we have increased demand for all food products. \r\r\n\r\r\nThe wait time may be longer for all online orders, particularly beef share and freezer packs. \r\r\n\r\r\nWe thank you for your patience during this time.",
         "Extremely Positive"
        ],
        [
         "12",
         "#horningsea is a caring community. LetÂs ALL look after the less capable in our village and ensure they stay healthy. Bringing shopping to their doors, help with online shopping and self isolation if you have symptoms or been exposed to somebody who has. https://t.co/lsGrXXhjhh",
         "Extremely Positive"
        ],
        [
         "13",
         "Me: I don't need to stock up on food, I'll just have Amazon deliver whatever I need #CoronaVirus\r\r\n\r\r\nAmazon: https://t.co/8YWaKFjExC",
         "Positive"
        ],
        [
         "14",
         "ADARA Releases COVID-19 Resource Center for Travel Brands: Insights Help Travel Brands Stay Up-To-Date on Consumer Travel Behavior Trends https://t.co/PnA797jDKV https://t.co/dQox6uSihz",
         "Positive"
        ],
        [
         "15",
         "Lines at the grocery store have been unpredictable, but is eating out a safe alternative? \r\r\n\r\r\nFind out more about whether you should be avoiding restaurants right now:  https://t.co/9idZSis5oQ\r\r\n\r\r\n#coronavirus #covid19 https://t.co/ZHbh898lf6",
         "Positive"
        ],
        [
         "16",
         "????? ????? ????? ????? ??\r\r\n?????? ????? ??????? ????????? ?\r\r\n#????_???? ????? ???? ?????? ? #????????? ?????? ?? 13 ???? ?? ?? ???? ?????? ?? ??\r\r\n#???_???????? ????? ??? ???? ? https://t.co/51bL8P6vZh",
         "Neutral"
        ],
        [
         "17",
         "@eyeonthearctic 16MAR20 Russia consumer surveillance watchdog reported case in high Arctic where a man who traveled to Iran has COVID-19 and 101 are \"observed\"\r\r\nhttps://t.co/4WnrrK9oKC https://t.co/ld05k5Eyns",
         "Neutral"
        ],
        [
         "18",
         "Amazon Glitch Stymies Whole Foods, Fresh Grocery Deliveries\r\r\nÂAs COVID-19 has spread, weÂve seen a significant increase in people shopping online for groceries,Â a spokeswoman said in a statement. ÂToday this resulted in a systems impact affecting our ...\r\r\n https://t.co/TbzZ2MC3b3",
         "Extremely Positive"
        ],
        [
         "19",
         "For those who aren't struggling, please consider donating to a food bank or a nonprofit. The demand for these services will increase as COVID-19 impacts jobs, and people's way of life.",
         "Positive"
        ],
        [
         "20",
         "with 100  nations inficted with  covid  19  the world must  not  play fair with china  100 goverments must demand  china  adopts new guilde  lines on food safty  the  chinese  goverment  is guilty of  being  irosponcible   with life  on a global scale",
         "Extremely Negative"
        ],
        [
         "21",
         "https://t.co/AVKrR9syff\r\r\n\r\r\nThe COVID-19 coronavirus pandemic is impacting consumer shopping behavior, purchase decisions and retail sales, according to a First Insight study.",
         "Neutral"
        ],
        [
         "22",
         "We have AMAZING CHEAP DEALS! FOR THE #COVID2019 going on to help you???\r\r\n#Trials\r\r\n#Monthly\r\r\n#Yearly \r\r\nAnd Resonable #Prices / #Subscriptions\r\r\nJust DM US! #bestiptv #iptv #Service #Iptv #iptvdeals #Cheap #ipTV #Football #HD #Movies #Adult #Cinema #hotmovies #iptvnew #iptv2020 #Adult",
         "Extremely Positive"
        ],
        [
         "23",
         "We have AMAZING CHEAP DEALS! FOR THE #COVID2019 going on to help you???\r\r\n#Trials\r\r\n#Monthly\r\r\n#Yearly \r\r\nAnd Resonable #Prices / #Subscriptions\r\r\nJust DM US! #bestiptv #iptv #Service #Iptv #iptvdeals #Cheap #ipTV #Football #HD #Movies #Adult #Cinema #hotmovies #ipTv IPTVLinks #18Movies",
         "Extremely Positive"
        ],
        [
         "24",
         "@10DowningStreet @grantshapps what is being done to ensure food and other essential products are being re-stocked at supermarkets and panic buying actively discouraged? It cannot be left to checkout staff to police the actions of the selfish and profiteer",
         "Negative"
        ],
        [
         "25",
         "UK #consumer poll indicates the majority expect #covid19's impact to last 4-12 months (at 12 March). We expect this to increase at the next #tracker... See full results of the @RetailX Coronavirus Consumer Confidence Tracker here: https://t.co/K3uJlcjqDB https://t.co/9G3kgqIXJ8",
         "Extremely Positive"
        ],
        [
         "26",
         "In preparation for higher demand and a potential food shortage, The Hunger Coalition purchased 10 percent more food and implemented new protocols due to the COVID-19 coronavirus. https://t.co/5CecYtLnYn",
         "Negative"
        ],
        [
         "27",
         "This morning I tested positive for Covid 19. I feel ok, I have no symptoms so far but have been isolated since I found out about my possible exposure to the virus.  Stay home people and be pragmatic. I will keep you updated on how IÂm doing ???? No panic. https://t.co/Lg7HVMZglZ",
         "Extremely Negative"
        ],
        [
         "28",
         "Do you see malicious price increases in NYC? The NYC Department of Consumer and Worker Protection (DCWP) has set up a page to digitally file a complaint. Click here: https://t.co/oEx6Y8mm2K\r\r\n\r\r\nTo file a complaint (use the word\"Overcharge\") https://t.co/MdMmoBttOP\r\r\n#COVID19 #CovidNYC",
         "Negative"
        ],
        [
         "29",
         "@7SealsOfTheEnd Soon with dwindling supplies unlawful Panicky people will be breaking into Closed Stores &amp; Supermarkets to Raid them as they normally do during a Crisis so massive as the #Coronavirus\r\r\n\r\r\n#StockUp&amp;LockUp",
         "Extremely Negative"
        ],
        [
         "30",
         "There Is of in the Country  The more empty shelves people see the more buying ensues the more food is out of stock",
         "Negative"
        ],
        [
         "31",
         "'Hole' Foods...\r\r\n\r\r\n...images from the nicest grocery store in one of the richest neighborhoods in the United States.\r\r\n\r\r\nhttps://t.co/WnQSoMtkVI\r\r\n\r\r\n#BreakingNews #Breaking #Coronavirus #CoronavirusOutbreak #COVID19 #COVID?19 #COVID_19 #COVID2019 #Collapse",
         "Extremely Positive"
        ],
        [
         "32",
         "Retail store closures could explode because of the #coronavirus (via @CNBC). #BrickAndMortar\r\r\n\r\r\nhttps://t.co/hQrYRNXFhv https://t.co/g5UZn06gb6",
         "Neutral"
        ],
        [
         "33",
         "Coronavirus fun fact: if you cough at the grocery store, you get the whole aisle to yourself pretty quickly.\r\r\n#CoronavirusOutbreak #coronavirus #COVID2019",
         "Extremely Positive"
        ],
        [
         "34",
         "We're sorry to say that our @FinFabUK event is being cancelled due to Covid-19. The health and wellbeing of our attendees, speakers and staff is our top priority. Apologies for any disappointment this may cause. All FAQs are answered in the link below:\r\r\nhttps://t.co/GDDPTudCvj",
         "Negative"
        ],
        [
         "35",
         "Went to the supermarket yesterday and the toilet paper was gone. Has this anything to do with the Corona virus? #COVID2019",
         "Neutral"
        ],
        [
         "36",
         "Yes, buy only what you need.\r\r\n\r\r\nBut what's the point of posting photos of those people in the supermarket with a load of stuff? They could be buying for all their elderly parents, kids, siblings, etc who can't buy for themselves\r\r\n\r\r\nNot everything needs to be viral, Covid-19 alr is",
         "Positive"
        ],
        [
         "37",
         "Worried about the impact of the current COVID-19 pandemic on your finances? WeÂve just published some tips to help you manage your money during these challenging times. #COVID19 https://t.co/3jKK3CqXfQ https://t.co/EbEnURmmJS",
         "Positive"
        ],
        [
         "38",
         "my wife works retail&amp;a customer came in yesterday, coughing everywhere, saying they have CoVid-19. They requested a deep clean of the store - her company objected to due to cost, recommending the team spray disinfectant&amp;clean themselves. we're gonna die/get sick due to capitalism",
         "Negative"
        ],
        [
         "39",
         "Now I can go to the supermarket like this without being judged! ? #CoronavirusOutbreak #COVID2019 https://t.co/krTCGiUHQS",
         "Positive"
        ],
        [
         "40",
         "We're here to provide a safe shopping experience for our customers and a healthy environment for our associates and community!\r\r\nOnline orders can be placed here: https://t.co/dCSXHUj3U0\r\r\n\r\r\n#jlmco #jlmcobrand #coronapocolypse #coronavirus #CoronavirusOutbreak  #COVID19 #shoponline https://t.co/riNKwskeRS",
         "Extremely Positive"
        ],
        [
         "41",
         "Curious,  do we think retail shoppers will do a lot of online shopping bc they're home and unable to go out or do we think everyone is too spooked to get that extra pair of shoes? #economy #onlineshopping #coronavirus #covid19 #stayhome",
         "Positive"
        ],
        [
         "42",
         "CHECK VIDEO ?? https://t.co/1ksn9Brl02 ??No food ? in USA market due to coronavirus panic we gonna die from starvation #CoronavirusOutbreak #coronavirus #houston #nofood #Notoiletpaper #NoHandShakes #nohandsanitizer #COVID19 #pandemic #totallockdown #COVID2019usa #walmart https://t.co/ztN3iMkgpD",
         "Extremely Negative"
        ],
        [
         "43",
         "Breaking Story: Online clothes shopping rises as people find mysterious white patches forming on clothes. #QuarantineLife #CoronavirusOutbreak #coronavirus #IMadeThisUp #FakeNews https://t.co/5Z24hptT9M",
         "Neutral"
        ],
        [
         "44",
         "This is the line outside  @Target  in as customers wait for the store to open this morning",
         "Neutral"
        ],
        [
         "45",
         "South Africans stock up on food, basic goods as coronavirus panic hits https://t.co/6nGNFJmy89\r\r\n\r\r\n#CoronaVirusSA \r\r\n#Covid_19 https://t.co/pzirO10avf",
         "Negative"
        ],
        [
         "46",
         " Please Share  Know someone who s 65 Living on their own struggling to get 2 their local supermarket due to issues around 19 We re offering FREE deliveries of our healthy soups NATIONWIDE to anyone 65 in need Plus their freezable",
         "Extremely Positive"
        ],
        [
         "47",
         "People posting and sharing photos of of half to completely empty shelves calling those people \"dumb\" or \"idiots.\" All while shopping at the grocery store. lol\r\r\n\r\r\n#coronavirus #COVID19",
         "Positive"
        ],
        [
         "48",
         "Never thought I'd say this, but. 2019, Will you come back!? PLEASE! #coronavirus #COVID19 #peoplearelosingtheirminds #StopTheMadness #stoppanicbuying",
         "Extremely Positive"
        ],
        [
         "49",
         "COVID-19 restrictions sparking a run on cannabis stores\r\r\n\r\r\nThey're not closed yet! But Customers are stocking up on cannabis this weekend, preparing for what could be more retail store restrictions in coming days. https://t.co/WMqR8QWoiG",
         "Neutral"
        ]
       ],
       "shape": {
        "columns": 2,
        "rows": 41157
       }
      },
      "text/html": [
       "<div>\n",
       "<style scoped>\n",
       "    .dataframe tbody tr th:only-of-type {\n",
       "        vertical-align: middle;\n",
       "    }\n",
       "\n",
       "    .dataframe tbody tr th {\n",
       "        vertical-align: top;\n",
       "    }\n",
       "\n",
       "    .dataframe thead th {\n",
       "        text-align: right;\n",
       "    }\n",
       "</style>\n",
       "<table border=\"1\" class=\"dataframe\">\n",
       "  <thead>\n",
       "    <tr style=\"text-align: right;\">\n",
       "      <th></th>\n",
       "      <th>OriginalTweet</th>\n",
       "      <th>Sentiment</th>\n",
       "    </tr>\n",
       "  </thead>\n",
       "  <tbody>\n",
       "    <tr>\n",
       "      <th>0</th>\n",
       "      <td>@MeNyrbie @Phil_Gahan @Chrisitv https://t.co/i...</td>\n",
       "      <td>Neutral</td>\n",
       "    </tr>\n",
       "    <tr>\n",
       "      <th>1</th>\n",
       "      <td>advice Talk to your neighbours family to excha...</td>\n",
       "      <td>Positive</td>\n",
       "    </tr>\n",
       "    <tr>\n",
       "      <th>2</th>\n",
       "      <td>Coronavirus Australia: Woolworths to give elde...</td>\n",
       "      <td>Positive</td>\n",
       "    </tr>\n",
       "    <tr>\n",
       "      <th>3</th>\n",
       "      <td>My food stock is not the only one which is emp...</td>\n",
       "      <td>Positive</td>\n",
       "    </tr>\n",
       "    <tr>\n",
       "      <th>4</th>\n",
       "      <td>Me, ready to go at supermarket during the #COV...</td>\n",
       "      <td>Extremely Negative</td>\n",
       "    </tr>\n",
       "    <tr>\n",
       "      <th>...</th>\n",
       "      <td>...</td>\n",
       "      <td>...</td>\n",
       "    </tr>\n",
       "    <tr>\n",
       "      <th>41152</th>\n",
       "      <td>Airline pilots offering to stock supermarket s...</td>\n",
       "      <td>Neutral</td>\n",
       "    </tr>\n",
       "    <tr>\n",
       "      <th>41153</th>\n",
       "      <td>Response to complaint not provided citing COVI...</td>\n",
       "      <td>Extremely Negative</td>\n",
       "    </tr>\n",
       "    <tr>\n",
       "      <th>41154</th>\n",
       "      <td>You know itÂs getting tough when @KameronWild...</td>\n",
       "      <td>Positive</td>\n",
       "    </tr>\n",
       "    <tr>\n",
       "      <th>41155</th>\n",
       "      <td>Is it wrong that the smell of hand sanitizer i...</td>\n",
       "      <td>Neutral</td>\n",
       "    </tr>\n",
       "    <tr>\n",
       "      <th>41156</th>\n",
       "      <td>@TartiiCat Well new/used Rift S are going for ...</td>\n",
       "      <td>Negative</td>\n",
       "    </tr>\n",
       "  </tbody>\n",
       "</table>\n",
       "<p>41157 rows × 2 columns</p>\n",
       "</div>"
      ],
      "text/plain": [
       "                                           OriginalTweet           Sentiment\n",
       "0      @MeNyrbie @Phil_Gahan @Chrisitv https://t.co/i...             Neutral\n",
       "1      advice Talk to your neighbours family to excha...            Positive\n",
       "2      Coronavirus Australia: Woolworths to give elde...            Positive\n",
       "3      My food stock is not the only one which is emp...            Positive\n",
       "4      Me, ready to go at supermarket during the #COV...  Extremely Negative\n",
       "...                                                  ...                 ...\n",
       "41152  Airline pilots offering to stock supermarket s...             Neutral\n",
       "41153  Response to complaint not provided citing COVI...  Extremely Negative\n",
       "41154  You know itÂs getting tough when @KameronWild...            Positive\n",
       "41155  Is it wrong that the smell of hand sanitizer i...             Neutral\n",
       "41156  @TartiiCat Well new/used Rift S are going for ...            Negative\n",
       "\n",
       "[41157 rows x 2 columns]"
      ]
     },
     "execution_count": 26,
     "metadata": {},
     "output_type": "execute_result"
    }
   ],
   "source": [
    "df"
   ]
  },
  {
   "cell_type": "code",
   "execution_count": 27,
   "id": "79ccbfd9",
   "metadata": {},
   "outputs": [
    {
     "data": {
      "application/vnd.microsoft.datawrangler.viewer.v0+json": {
       "columns": [
        {
         "name": "index",
         "rawType": "object",
         "type": "string"
        },
        {
         "name": "0",
         "rawType": "int64",
         "type": "integer"
        }
       ],
       "ref": "c4c2b0f6-09a8-4d53-845f-a84e126b53d1",
       "rows": [
        [
         "OriginalTweet",
         "0"
        ],
        [
         "Sentiment",
         "0"
        ]
       ],
       "shape": {
        "columns": 1,
        "rows": 2
       }
      },
      "text/plain": [
       "OriginalTweet    0\n",
       "Sentiment        0\n",
       "dtype: int64"
      ]
     },
     "execution_count": 27,
     "metadata": {},
     "output_type": "execute_result"
    }
   ],
   "source": [
    "df.isnull().sum()"
   ]
  },
  {
   "cell_type": "code",
   "execution_count": 28,
   "id": "50923006",
   "metadata": {},
   "outputs": [],
   "source": [
    "import re\n",
    "import string\n",
    "\n",
    "def clean_tweet(text):\n",
    "    # 1. Lowercase\n",
    "    text = text.lower()\n",
    "    \n",
    "    # 2. Remove URLs (http, https, www)\n",
    "    text = re.sub(r\"http\\S+|www\\S+\", \"\", text)\n",
    "    \n",
    "    # 3. Remove mentions (@username)\n",
    "    text = re.sub(r\"@\\w+\", \"\", text)\n",
    "    \n",
    "    # 4. Remove hashtags (keep the word if you want)\n",
    "    text = re.sub(r\"#\\w+\", \"\", text)\n",
    "    \n",
    "    # 5. Remove emojis and other non-alphanumeric symbols\n",
    "    text = re.sub(r\"[^\\w\\s\" + string.punctuation + \"]\", \"\", text)\n",
    "    \n",
    "    # 6. Remove unnecessary punctuation (keep only . , ! ?)\n",
    "    text = re.sub(r\"[^a-zA-Z\\s]\", \"\", text)\n",
    "\n",
    "    \n",
    "    # 7. Remove extra spaces\n",
    "    text = re.sub(r\"\\s+\", \" \", text).strip()\n",
    "    \n",
    "    return text\n"
   ]
  },
  {
   "cell_type": "code",
   "execution_count": 29,
   "id": "f6779b3f",
   "metadata": {},
   "outputs": [
    {
     "data": {
      "application/vnd.microsoft.datawrangler.viewer.v0+json": {
       "columns": [
        {
         "name": "index",
         "rawType": "int64",
         "type": "integer"
        },
        {
         "name": "OriginalTweet",
         "rawType": "object",
         "type": "unknown"
        },
        {
         "name": "Sentiment",
         "rawType": "int64",
         "type": "integer"
        }
       ],
       "ref": "9bde31f6-938a-4c58-81d9-a0380bd4fc00",
       "rows": [
        [
         "0",
         "['and', 'and']",
         "2"
        ],
        [
         "1",
         "['advice', 'talk', 'to', 'your', 'neighbours', 'family', 'to', 'exchange', 'phone', 'numbers', 'create', 'contact', 'list', 'with', 'phone', 'numbers', 'of', 'neighbours', 'schools', 'employer', 'chemist', 'gp', 'set', 'up', 'online', 'shopping', 'accounts', 'if', 'poss', 'adequate', 'supplies', 'of', 'regular', 'meds', 'but', 'not', 'over', 'order']",
         "3"
        ],
        [
         "2",
         "['coronavirus', 'australia', 'woolworths', 'to', 'give', 'elderly', 'disabled', 'dedicated', 'shopping', 'hours', 'amid', 'covid', 'outbreak']",
         "3"
        ],
        [
         "3",
         "['my', 'food', 'stock', 'is', 'not', 'the', 'only', 'one', 'which', 'is', 'empty', 'please', 'dont', 'panic', 'there', 'will', 'be', 'enough', 'food', 'for', 'everyone', 'if', 'you', 'do', 'not', 'take', 'more', 'than', 'you', 'need', 'stay', 'calm', 'stay', 'safe']",
         "3"
        ],
        [
         "4",
         "['me', 'ready', 'to', 'go', 'at', 'supermarket', 'during', 'the', 'outbreak', 'not', 'because', 'im', 'paranoid', 'but', 'because', 'my', 'food', 'stock', 'is', 'litteraly', 'empty', 'the', 'is', 'a', 'serious', 'thing', 'but', 'please', 'dont', 'panic', 'it', 'causes', 'shortage']",
         "0"
        ],
        [
         "5",
         "['as', 'news', 'of', 'the', 'regions', 'first', 'confirmed', 'covid', 'case', 'came', 'out', 'of', 'sullivan', 'county', 'last', 'week', 'people', 'flocked', 'to', 'area', 'stores', 'to', 'purchase', 'cleaning', 'supplies', 'hand', 'sanitizer', 'food', 'toilet', 'paper', 'and', 'other', 'goods', 'reports']",
         "3"
        ],
        [
         "6",
         "['cashier', 'at', 'grocery', 'store', 'was', 'sharing', 'his', 'insights', 'on', 'to', 'prove', 'his', 'credibility', 'he', 'commented', 'im', 'in', 'civics', 'class', 'so', 'i', 'know', 'what', 'im', 'talking', 'about']",
         "3"
        ],
        [
         "7",
         "['was', 'at', 'the', 'supermarket', 'today', 'didnt', 'buy', 'toilet', 'paper']",
         "2"
        ],
        [
         "8",
         "['due', 'to', 'covid', 'our', 'retail', 'store', 'and', 'classroom', 'in', 'atlanta', 'will', 'not', 'be', 'open', 'for', 'walkin', 'business', 'or', 'classes', 'for', 'the', 'next', 'two', 'weeks', 'beginning', 'monday', 'march', 'we', 'will', 'continue', 'to', 'process', 'online', 'and', 'phone', 'orders', 'as', 'normal', 'thank', 'you', 'for', 'your', 'understanding']",
         "3"
        ],
        [
         "9",
         "['for', 'corona', 'preventionwe', 'should', 'stop', 'to', 'buy', 'things', 'with', 'the', 'cash', 'and', 'should', 'use', 'online', 'payment', 'methods', 'because', 'corona', 'can', 'spread', 'through', 'the', 'notes', 'also', 'we', 'should', 'prefer', 'online', 'shopping', 'from', 'our', 'home', 'its', 'time', 'to', 'fight', 'against', 'covid']",
         "1"
        ],
        [
         "10",
         "['all', 'month', 'there', 'hasnt', 'been', 'crowding', 'in', 'the', 'supermarkets', 'or', 'restaurants', 'however', 'reducing', 'all', 'the', 'hours', 'and', 'closing', 'the', 'malls', 'means', 'everyone', 'is', 'now', 'using', 'the', 'same', 'entrance', 'and', 'dependent', 'on', 'a', 'single', 'supermarket']",
         "2"
        ],
        [
         "11",
         "['due', 'to', 'the', 'covid', 'situation', 'we', 'have', 'increased', 'demand', 'for', 'all', 'food', 'products', 'the', 'wait', 'time', 'may', 'be', 'longer', 'for', 'all', 'online', 'orders', 'particularly', 'beef', 'share', 'and', 'freezer', 'packs', 'we', 'thank', 'you', 'for', 'your', 'patience', 'during', 'this', 'time']",
         "4"
        ],
        [
         "12",
         "['is', 'a', 'caring', 'community', 'lets', 'all', 'look', 'after', 'the', 'less', 'capable', 'in', 'our', 'village', 'and', 'ensure', 'they', 'stay', 'healthy', 'bringing', 'shopping', 'to', 'their', 'doors', 'help', 'with', 'online', 'shopping', 'and', 'self', 'isolation', 'if', 'you', 'have', 'symptoms', 'or', 'been', 'exposed', 'to', 'somebody', 'who', 'has']",
         "4"
        ],
        [
         "13",
         "['me', 'i', 'dont', 'need', 'to', 'stock', 'up', 'on', 'food', 'ill', 'just', 'have', 'amazon', 'deliver', 'whatever', 'i', 'need', 'amazon']",
         "3"
        ],
        [
         "14",
         "['adara', 'releases', 'covid', 'resource', 'center', 'for', 'travel', 'brands', 'insights', 'help', 'travel', 'brands', 'stay', 'uptodate', 'on', 'consumer', 'travel', 'behavior', 'trends']",
         "3"
        ],
        [
         "15",
         "['lines', 'at', 'the', 'grocery', 'store', 'have', 'been', 'unpredictable', 'but', 'is', 'eating', 'out', 'a', 'safe', 'alternative', 'find', 'out', 'more', 'about', 'whether', 'you', 'should', 'be', 'avoiding', 'restaurants', 'right', 'now']",
         "3"
        ],
        [
         "16",
         "[]",
         "2"
        ],
        [
         "17",
         "['mar', 'russia', 'consumer', 'surveillance', 'watchdog', 'reported', 'case', 'in', 'high', 'arctic', 'where', 'a', 'man', 'who', 'traveled', 'to', 'iran', 'has', 'covid', 'and', 'are', 'observed']",
         "2"
        ],
        [
         "18",
         "['amazon', 'glitch', 'stymies', 'whole', 'foods', 'fresh', 'grocery', 'deliveries', 'as', 'covid', 'has', 'spread', 'weve', 'seen', 'a', 'significant', 'increase', 'in', 'people', 'shopping', 'online', 'for', 'groceries', 'a', 'spokeswoman', 'said', 'in', 'a', 'statement', 'today', 'this', 'resulted', 'in', 'a', 'systems', 'impact', 'affecting', 'our']",
         "4"
        ],
        [
         "19",
         "['for', 'those', 'who', 'arent', 'struggling', 'please', 'consider', 'donating', 'to', 'a', 'food', 'bank', 'or', 'a', 'nonprofit', 'the', 'demand', 'for', 'these', 'services', 'will', 'increase', 'as', 'covid', 'impacts', 'jobs', 'and', 'peoples', 'way', 'of', 'life']",
         "3"
        ],
        [
         "20",
         "['with', 'nations', 'inficted', 'with', 'covid', 'the', 'world', 'must', 'not', 'play', 'fair', 'with', 'china', 'goverments', 'must', 'demand', 'china', 'adopts', 'new', 'guilde', 'lines', 'on', 'food', 'safty', 'the', 'chinese', 'goverment', 'is', 'guilty', 'of', 'being', 'irosponcible', 'with', 'life', 'on', 'a', 'global', 'scale']",
         "0"
        ],
        [
         "21",
         "['the', 'covid', 'coronavirus', 'pandemic', 'is', 'impacting', 'consumer', 'shopping', 'behavior', 'purchase', 'decisions', 'and', 'retail', 'sales', 'according', 'to', 'a', 'first', 'insight', 'study']",
         "2"
        ],
        [
         "22",
         "['we', 'have', 'amazing', 'cheap', 'deals', 'for', 'the', 'going', 'on', 'to', 'help', 'you', 'and', 'resonable', 'just', 'dm', 'us']",
         "4"
        ],
        [
         "23",
         "['we', 'have', 'amazing', 'cheap', 'deals', 'for', 'the', 'going', 'on', 'to', 'help', 'you', 'and', 'resonable', 'just', 'dm', 'us', 'iptvlinks']",
         "4"
        ],
        [
         "24",
         "['what', 'is', 'being', 'done', 'to', 'ensure', 'food', 'and', 'other', 'essential', 'products', 'are', 'being', 'restocked', 'at', 'supermarkets', 'and', 'panic', 'buying', 'actively', 'discouraged', 'it', 'cannot', 'be', 'left', 'to', 'checkout', 'staff', 'to', 'police', 'the', 'actions', 'of', 'the', 'selfish', 'and', 'profiteer']",
         "1"
        ],
        [
         "25",
         "['uk', 'poll', 'indicates', 'the', 'majority', 'expect', 's', 'impact', 'to', 'last', 'months', 'at', 'march', 'we', 'expect', 'this', 'to', 'increase', 'at', 'the', 'next', 'see', 'full', 'results', 'of', 'the', 'coronavirus', 'consumer', 'confidence', 'tracker', 'here']",
         "4"
        ],
        [
         "26",
         "['in', 'preparation', 'for', 'higher', 'demand', 'and', 'a', 'potential', 'food', 'shortage', 'the', 'hunger', 'coalition', 'purchased', 'percent', 'more', 'food', 'and', 'implemented', 'new', 'protocols', 'due', 'to', 'the', 'covid', 'coronavirus']",
         "1"
        ],
        [
         "27",
         "['this', 'morning', 'i', 'tested', 'positive', 'for', 'covid', 'i', 'feel', 'ok', 'i', 'have', 'no', 'symptoms', 'so', 'far', 'but', 'have', 'been', 'isolated', 'since', 'i', 'found', 'out', 'about', 'my', 'possible', 'exposure', 'to', 'the', 'virus', 'stay', 'home', 'people', 'and', 'be', 'pragmatic', 'i', 'will', 'keep', 'you', 'updated', 'on', 'how', 'im', 'doing', 'no', 'panic']",
         "0"
        ],
        [
         "28",
         "['do', 'you', 'see', 'malicious', 'price', 'increases', 'in', 'nyc', 'the', 'nyc', 'department', 'of', 'consumer', 'and', 'worker', 'protection', 'dcwp', 'has', 'set', 'up', 'a', 'page', 'to', 'digitally', 'file', 'a', 'complaint', 'click', 'here', 'to', 'file', 'a', 'complaint', 'use', 'the', 'wordovercharge']",
         "1"
        ],
        [
         "29",
         "['soon', 'with', 'dwindling', 'supplies', 'unlawful', 'panicky', 'people', 'will', 'be', 'breaking', 'into', 'closed', 'stores', 'amp', 'supermarkets', 'to', 'raid', 'them', 'as', 'they', 'normally', 'do', 'during', 'a', 'crisis', 'so', 'massive', 'as', 'the', 'amplockup']",
         "0"
        ],
        [
         "30",
         "['there', 'is', 'of', 'in', 'the', 'country', 'the', 'more', 'empty', 'shelves', 'people', 'see', 'the', 'more', 'buying', 'ensues', 'the', 'more', 'food', 'is', 'out', 'of', 'stock']",
         "1"
        ],
        [
         "31",
         "['hole', 'foods', 'images', 'from', 'the', 'nicest', 'grocery', 'store', 'in', 'one', 'of', 'the', 'richest', 'neighborhoods', 'in', 'the', 'united', 'states']",
         "4"
        ],
        [
         "32",
         "['retail', 'store', 'closures', 'could', 'explode', 'because', 'of', 'the', 'via']",
         "2"
        ],
        [
         "33",
         "['coronavirus', 'fun', 'fact', 'if', 'you', 'cough', 'at', 'the', 'grocery', 'store', 'you', 'get', 'the', 'whole', 'aisle', 'to', 'yourself', 'pretty', 'quickly']",
         "4"
        ],
        [
         "34",
         "['were', 'sorry', 'to', 'say', 'that', 'our', 'event', 'is', 'being', 'cancelled', 'due', 'to', 'covid', 'the', 'health', 'and', 'wellbeing', 'of', 'our', 'attendees', 'speakers', 'and', 'staff', 'is', 'our', 'top', 'priority', 'apologies', 'for', 'any', 'disappointment', 'this', 'may', 'cause', 'all', 'faqs', 'are', 'answered', 'in', 'the', 'link', 'below']",
         "1"
        ],
        [
         "35",
         "['went', 'to', 'the', 'supermarket', 'yesterday', 'and', 'the', 'toilet', 'paper', 'was', 'gone', 'has', 'this', 'anything', 'to', 'do', 'with', 'the', 'corona', 'virus']",
         "2"
        ],
        [
         "36",
         "['yes', 'buy', 'only', 'what', 'you', 'need', 'but', 'whats', 'the', 'point', 'of', 'posting', 'photos', 'of', 'those', 'people', 'in', 'the', 'supermarket', 'with', 'a', 'load', 'of', 'stuff', 'they', 'could', 'be', 'buying', 'for', 'all', 'their', 'elderly', 'parents', 'kids', 'siblings', 'etc', 'who', 'cant', 'buy', 'for', 'themselves', 'not', 'everything', 'needs', 'to', 'be', 'viral', 'covid', 'alr', 'is']",
         "3"
        ],
        [
         "37",
         "['worried', 'about', 'the', 'impact', 'of', 'the', 'current', 'covid', 'pandemic', 'on', 'your', 'finances', 'weve', 'just', 'published', 'some', 'tips', 'to', 'help', 'you', 'manage', 'your', 'money', 'during', 'these', 'challenging', 'times']",
         "3"
        ],
        [
         "38",
         "['my', 'wife', 'works', 'retailampa', 'customer', 'came', 'in', 'yesterday', 'coughing', 'everywhere', 'saying', 'they', 'have', 'covid', 'they', 'requested', 'a', 'deep', 'clean', 'of', 'the', 'store', 'her', 'company', 'objected', 'to', 'due', 'to', 'cost', 'recommending', 'the', 'team', 'spray', 'disinfectantampclean', 'themselves', 'were', 'gonna', 'dieget', 'sick', 'due', 'to', 'capitalism']",
         "1"
        ],
        [
         "39",
         "['now', 'i', 'can', 'go', 'to', 'the', 'supermarket', 'like', 'this', 'without', 'being', 'judged']",
         "3"
        ],
        [
         "40",
         "['were', 'here', 'to', 'provide', 'a', 'safe', 'shopping', 'experience', 'for', 'our', 'customers', 'and', 'a', 'healthy', 'environment', 'for', 'our', 'associates', 'and', 'community', 'online', 'orders', 'can', 'be', 'placed', 'here']",
         "4"
        ],
        [
         "41",
         "['curious', 'do', 'we', 'think', 'retail', 'shoppers', 'will', 'do', 'a', 'lot', 'of', 'online', 'shopping', 'bc', 'theyre', 'home', 'and', 'unable', 'to', 'go', 'out', 'or', 'do', 'we', 'think', 'everyone', 'is', 'too', 'spooked', 'to', 'get', 'that', 'extra', 'pair', 'of', 'shoes']",
         "3"
        ],
        [
         "42",
         "['check', 'video', 'no', 'food', 'in', 'usa', 'market', 'due', 'to', 'coronavirus', 'panic', 'we', 'gonna', 'die', 'from', 'starvation']",
         "0"
        ],
        [
         "43",
         "['breaking', 'story', 'online', 'clothes', 'shopping', 'rises', 'as', 'people', 'find', 'mysterious', 'white', 'patches', 'forming', 'on', 'clothes']",
         "2"
        ],
        [
         "44",
         "['this', 'is', 'the', 'line', 'outside', 'in', 'as', 'customers', 'wait', 'for', 'the', 'store', 'to', 'open', 'this', 'morning']",
         "2"
        ],
        [
         "45",
         "['south', 'africans', 'stock', 'up', 'on', 'food', 'basic', 'goods', 'as', 'coronavirus', 'panic', 'hits']",
         "1"
        ],
        [
         "46",
         "['please', 'share', 'know', 'someone', 'who', 's', 'living', 'on', 'their', 'own', 'struggling', 'to', 'get', 'their', 'local', 'supermarket', 'due', 'to', 'issues', 'around', 'we', 're', 'offering', 'free', 'deliveries', 'of', 'our', 'healthy', 'soups', 'nationwide', 'to', 'anyone', 'in', 'need', 'plus', 'their', 'freezable']",
         "4"
        ],
        [
         "47",
         "['people', 'posting', 'and', 'sharing', 'photos', 'of', 'of', 'half', 'to', 'completely', 'empty', 'shelves', 'calling', 'those', 'people', 'dumb', 'or', 'idiots', 'all', 'while', 'shopping', 'at', 'the', 'grocery', 'store', 'lol']",
         "3"
        ],
        [
         "48",
         "['never', 'thought', 'id', 'say', 'this', 'but', 'will', 'you', 'come', 'back', 'please']",
         "4"
        ],
        [
         "49",
         "['covid', 'restrictions', 'sparking', 'a', 'run', 'on', 'cannabis', 'stores', 'theyre', 'not', 'closed', 'yet', 'but', 'customers', 'are', 'stocking', 'up', 'on', 'cannabis', 'this', 'weekend', 'preparing', 'for', 'what', 'could', 'be', 'more', 'retail', 'store', 'restrictions', 'in', 'coming', 'days']",
         "2"
        ]
       ],
       "shape": {
        "columns": 2,
        "rows": 41157
       }
      },
      "text/html": [
       "<div>\n",
       "<style scoped>\n",
       "    .dataframe tbody tr th:only-of-type {\n",
       "        vertical-align: middle;\n",
       "    }\n",
       "\n",
       "    .dataframe tbody tr th {\n",
       "        vertical-align: top;\n",
       "    }\n",
       "\n",
       "    .dataframe thead th {\n",
       "        text-align: right;\n",
       "    }\n",
       "</style>\n",
       "<table border=\"1\" class=\"dataframe\">\n",
       "  <thead>\n",
       "    <tr style=\"text-align: right;\">\n",
       "      <th></th>\n",
       "      <th>OriginalTweet</th>\n",
       "      <th>Sentiment</th>\n",
       "    </tr>\n",
       "  </thead>\n",
       "  <tbody>\n",
       "    <tr>\n",
       "      <th>0</th>\n",
       "      <td>[and, and]</td>\n",
       "      <td>2</td>\n",
       "    </tr>\n",
       "    <tr>\n",
       "      <th>1</th>\n",
       "      <td>[advice, talk, to, your, neighbours, family, t...</td>\n",
       "      <td>3</td>\n",
       "    </tr>\n",
       "    <tr>\n",
       "      <th>2</th>\n",
       "      <td>[coronavirus, australia, woolworths, to, give,...</td>\n",
       "      <td>3</td>\n",
       "    </tr>\n",
       "    <tr>\n",
       "      <th>3</th>\n",
       "      <td>[my, food, stock, is, not, the, only, one, whi...</td>\n",
       "      <td>3</td>\n",
       "    </tr>\n",
       "    <tr>\n",
       "      <th>4</th>\n",
       "      <td>[me, ready, to, go, at, supermarket, during, t...</td>\n",
       "      <td>0</td>\n",
       "    </tr>\n",
       "    <tr>\n",
       "      <th>...</th>\n",
       "      <td>...</td>\n",
       "      <td>...</td>\n",
       "    </tr>\n",
       "    <tr>\n",
       "      <th>41152</th>\n",
       "      <td>[airline, pilots, offering, to, stock, superma...</td>\n",
       "      <td>2</td>\n",
       "    </tr>\n",
       "    <tr>\n",
       "      <th>41153</th>\n",
       "      <td>[response, to, complaint, not, provided, citin...</td>\n",
       "      <td>0</td>\n",
       "    </tr>\n",
       "    <tr>\n",
       "      <th>41154</th>\n",
       "      <td>[you, know, its, getting, tough, when, is, rat...</td>\n",
       "      <td>3</td>\n",
       "    </tr>\n",
       "    <tr>\n",
       "      <th>41155</th>\n",
       "      <td>[is, it, wrong, that, the, smell, of, hand, sa...</td>\n",
       "      <td>2</td>\n",
       "    </tr>\n",
       "    <tr>\n",
       "      <th>41156</th>\n",
       "      <td>[well, newused, rift, s, are, going, for, on, ...</td>\n",
       "      <td>1</td>\n",
       "    </tr>\n",
       "  </tbody>\n",
       "</table>\n",
       "<p>41157 rows × 2 columns</p>\n",
       "</div>"
      ],
      "text/plain": [
       "                                           OriginalTweet  Sentiment\n",
       "0                                             [and, and]          2\n",
       "1      [advice, talk, to, your, neighbours, family, t...          3\n",
       "2      [coronavirus, australia, woolworths, to, give,...          3\n",
       "3      [my, food, stock, is, not, the, only, one, whi...          3\n",
       "4      [me, ready, to, go, at, supermarket, during, t...          0\n",
       "...                                                  ...        ...\n",
       "41152  [airline, pilots, offering, to, stock, superma...          2\n",
       "41153  [response, to, complaint, not, provided, citin...          0\n",
       "41154  [you, know, its, getting, tough, when, is, rat...          3\n",
       "41155  [is, it, wrong, that, the, smell, of, hand, sa...          2\n",
       "41156  [well, newused, rift, s, are, going, for, on, ...          1\n",
       "\n",
       "[41157 rows x 2 columns]"
      ]
     },
     "execution_count": 29,
     "metadata": {},
     "output_type": "execute_result"
    }
   ],
   "source": [
    "df[\"OriginalTweet\"] = df[\"OriginalTweet\"].apply(clean_tweet)\n",
    "df[\"OriginalTweet\"] = df[\"OriginalTweet\"].apply(lambda x: x.split())\n",
    "label_mapping = {\n",
    "    \"Extremely Negative\": 0,\n",
    "    \"Negative\": 1,\n",
    "    \"Neutral\": 2,\n",
    "    \"Positive\": 3,\n",
    "    \"Extremely Positive\": 4\n",
    "}\n",
    "df[\"Sentiment\"] = df[\"Sentiment\"].map(label_mapping)\n",
    "\n",
    "df\n"
   ]
  },
  {
   "cell_type": "code",
   "execution_count": 30,
   "id": "4d8aaa80",
   "metadata": {},
   "outputs": [],
   "source": [
    "def get_vocabulary_size(df, column_name):\n",
    "    \"\"\"\n",
    "    Calculate the vocabulary size from a DataFrame column of tokenized text.\n",
    "\n",
    "    Parameters:\n",
    "        df (pd.DataFrame): The DataFrame containing the text data.\n",
    "        column_name (str): The name of the column with tokenized text (lists of words).\n",
    "\n",
    "    Returns:\n",
    "        int: The size of the vocabulary (number of unique words).\n",
    "    \"\"\"\n",
    "    all_words = [word for tokens in df[column_name] for word in tokens]\n",
    "    vocab = set(all_words)\n",
    "    vocab_size = len(vocab)\n",
    "    return vocab_size\n"
   ]
  },
  {
   "cell_type": "code",
   "execution_count": 32,
   "id": "5bf8ba61",
   "metadata": {},
   "outputs": [
    {
     "data": {
      "text/plain": [
       "36864"
      ]
     },
     "execution_count": 32,
     "metadata": {},
     "output_type": "execute_result"
    }
   ],
   "source": [
    "sz = get_vocabulary_size(df, 'OriginalTweet')\n",
    "sz"
   ]
  },
  {
   "cell_type": "code",
   "execution_count": 33,
   "id": "c950ae0a",
   "metadata": {},
   "outputs": [
    {
     "name": "stdout",
     "output_type": "stream",
     "text": [
      "Number of tokens occurring exactly once: 18926\n"
     ]
    }
   ],
   "source": [
    "from collections import Counter\n",
    "\n",
    "def count_single_occurrence_tokens(df, column_name):\n",
    "    # Flatten all tokens into one list\n",
    "    all_tokens = [token for tokens in df[column_name] for token in tokens]\n",
    "    \n",
    "    # Count the frequency of each token\n",
    "    token_counts = Counter(all_tokens)\n",
    "    \n",
    "    # Count how many tokens occur exactly once\n",
    "    single_occurrence_count = sum(1 for token, count in token_counts.items() if count == 1)\n",
    "    \n",
    "    return single_occurrence_count\n",
    "\n",
    "# Example usage\n",
    "num_single_occurrence = count_single_occurrence_tokens(df, \"OriginalTweet\")\n",
    "print(\"Number of tokens occurring exactly once:\", num_single_occurrence)\n",
    "\n"
   ]
  },
  {
   "cell_type": "code",
   "execution_count": 34,
   "id": "755059f8",
   "metadata": {},
   "outputs": [
    {
     "name": "stdout",
     "output_type": "stream",
     "text": [
      "Total tokens occurring once: 18926\n",
      "Vocabulary size after replacement: 36365\n"
     ]
    }
   ],
   "source": [
    "import random\n",
    "from collections import Counter\n",
    "\n",
    "def replace_random_single_occurrence_tokens_with_unk(df, column_name, num_to_replace=500):\n",
    "    # Flatten tokens\n",
    "    all_tokens = [token for tokens in df[column_name] for token in tokens]\n",
    "    \n",
    "    # Count tokens frequency\n",
    "    token_counts = Counter(all_tokens)\n",
    "    \n",
    "    # Find tokens occurring exactly once\n",
    "    single_occurrence_tokens = [token for token, count in token_counts.items() if count == 1]\n",
    "    \n",
    "    print(f\"Total tokens occurring once: {len(single_occurrence_tokens)}\")\n",
    "    \n",
    "    # Randomly sample 500 tokens from single-occurrence tokens\n",
    "    tokens_to_replace = random.sample(single_occurrence_tokens, num_to_replace)\n",
    "    \n",
    "    # Function to replace tokens in a list of tokens\n",
    "    def replace_tokens(tokens):\n",
    "        return ['UNK' if token in tokens_to_replace else token for token in tokens]\n",
    "    \n",
    "    # Replace tokens in the dataframe column\n",
    "    df[column_name] = df[column_name].apply(replace_tokens)\n",
    "    \n",
    "    # Optional: recalculate vocabulary size\n",
    "    all_tokens_after = [token for tokens in df[column_name] for token in tokens]\n",
    "    new_vocab = set(all_tokens_after)\n",
    "    new_vocab_size = len(new_vocab)\n",
    "    \n",
    "    print(f\"Vocabulary size after replacement: {new_vocab_size}\")\n",
    "    return df, new_vocab_size\n",
    "\n",
    "# Usage:\n",
    "df, new_vocab_size = replace_random_single_occurrence_tokens_with_unk(df, \"OriginalTweet\", 500)\n"
   ]
  },
  {
   "cell_type": "code",
   "execution_count": 35,
   "id": "c0280685",
   "metadata": {},
   "outputs": [
    {
     "data": {
      "application/vnd.microsoft.datawrangler.viewer.v0+json": {
       "columns": [
        {
         "name": "index",
         "rawType": "int64",
         "type": "integer"
        },
        {
         "name": "OriginalTweet",
         "rawType": "object",
         "type": "unknown"
        },
        {
         "name": "Sentiment",
         "rawType": "int64",
         "type": "integer"
        }
       ],
       "ref": "345d729e-a354-461f-aa62-0c05a90cb45a",
       "rows": [
        [
         "0",
         "['and', 'and']",
         "2"
        ],
        [
         "1",
         "['advice', 'talk', 'to', 'your', 'neighbours', 'family', 'to', 'exchange', 'phone', 'numbers', 'create', 'contact', 'list', 'with', 'phone', 'numbers', 'of', 'neighbours', 'schools', 'employer', 'chemist', 'gp', 'set', 'up', 'online', 'shopping', 'accounts', 'if', 'poss', 'adequate', 'supplies', 'of', 'regular', 'meds', 'but', 'not', 'over', 'order']",
         "3"
        ],
        [
         "2",
         "['coronavirus', 'australia', 'woolworths', 'to', 'give', 'elderly', 'disabled', 'dedicated', 'shopping', 'hours', 'amid', 'covid', 'outbreak']",
         "3"
        ],
        [
         "3",
         "['my', 'food', 'stock', 'is', 'not', 'the', 'only', 'one', 'which', 'is', 'empty', 'please', 'dont', 'panic', 'there', 'will', 'be', 'enough', 'food', 'for', 'everyone', 'if', 'you', 'do', 'not', 'take', 'more', 'than', 'you', 'need', 'stay', 'calm', 'stay', 'safe']",
         "3"
        ],
        [
         "4",
         "['me', 'ready', 'to', 'go', 'at', 'supermarket', 'during', 'the', 'outbreak', 'not', 'because', 'im', 'paranoid', 'but', 'because', 'my', 'food', 'stock', 'is', 'litteraly', 'empty', 'the', 'is', 'a', 'serious', 'thing', 'but', 'please', 'dont', 'panic', 'it', 'causes', 'shortage']",
         "0"
        ],
        [
         "5",
         "['as', 'news', 'of', 'the', 'regions', 'first', 'confirmed', 'covid', 'case', 'came', 'out', 'of', 'sullivan', 'county', 'last', 'week', 'people', 'flocked', 'to', 'area', 'stores', 'to', 'purchase', 'cleaning', 'supplies', 'hand', 'sanitizer', 'food', 'toilet', 'paper', 'and', 'other', 'goods', 'reports']",
         "3"
        ],
        [
         "6",
         "['cashier', 'at', 'grocery', 'store', 'was', 'sharing', 'his', 'insights', 'on', 'to', 'prove', 'his', 'credibility', 'he', 'commented', 'im', 'in', 'civics', 'class', 'so', 'i', 'know', 'what', 'im', 'talking', 'about']",
         "3"
        ],
        [
         "7",
         "['was', 'at', 'the', 'supermarket', 'today', 'didnt', 'buy', 'toilet', 'paper']",
         "2"
        ],
        [
         "8",
         "['due', 'to', 'covid', 'our', 'retail', 'store', 'and', 'classroom', 'in', 'atlanta', 'will', 'not', 'be', 'open', 'for', 'walkin', 'business', 'or', 'classes', 'for', 'the', 'next', 'two', 'weeks', 'beginning', 'monday', 'march', 'we', 'will', 'continue', 'to', 'process', 'online', 'and', 'phone', 'orders', 'as', 'normal', 'thank', 'you', 'for', 'your', 'understanding']",
         "3"
        ],
        [
         "9",
         "['for', 'corona', 'preventionwe', 'should', 'stop', 'to', 'buy', 'things', 'with', 'the', 'cash', 'and', 'should', 'use', 'online', 'payment', 'methods', 'because', 'corona', 'can', 'spread', 'through', 'the', 'notes', 'also', 'we', 'should', 'prefer', 'online', 'shopping', 'from', 'our', 'home', 'its', 'time', 'to', 'fight', 'against', 'covid']",
         "1"
        ],
        [
         "10",
         "['all', 'month', 'there', 'hasnt', 'been', 'crowding', 'in', 'the', 'supermarkets', 'or', 'restaurants', 'however', 'reducing', 'all', 'the', 'hours', 'and', 'closing', 'the', 'malls', 'means', 'everyone', 'is', 'now', 'using', 'the', 'same', 'entrance', 'and', 'dependent', 'on', 'a', 'single', 'supermarket']",
         "2"
        ],
        [
         "11",
         "['due', 'to', 'the', 'covid', 'situation', 'we', 'have', 'increased', 'demand', 'for', 'all', 'food', 'products', 'the', 'wait', 'time', 'may', 'be', 'longer', 'for', 'all', 'online', 'orders', 'particularly', 'beef', 'share', 'and', 'freezer', 'packs', 'we', 'thank', 'you', 'for', 'your', 'patience', 'during', 'this', 'time']",
         "4"
        ],
        [
         "12",
         "['is', 'a', 'caring', 'community', 'lets', 'all', 'look', 'after', 'the', 'less', 'capable', 'in', 'our', 'village', 'and', 'ensure', 'they', 'stay', 'healthy', 'bringing', 'shopping', 'to', 'their', 'doors', 'help', 'with', 'online', 'shopping', 'and', 'self', 'isolation', 'if', 'you', 'have', 'symptoms', 'or', 'been', 'exposed', 'to', 'somebody', 'who', 'has']",
         "4"
        ],
        [
         "13",
         "['me', 'i', 'dont', 'need', 'to', 'stock', 'up', 'on', 'food', 'ill', 'just', 'have', 'amazon', 'deliver', 'whatever', 'i', 'need', 'amazon']",
         "3"
        ],
        [
         "14",
         "['adara', 'releases', 'covid', 'resource', 'center', 'for', 'travel', 'brands', 'insights', 'help', 'travel', 'brands', 'stay', 'uptodate', 'on', 'consumer', 'travel', 'behavior', 'trends']",
         "3"
        ],
        [
         "15",
         "['lines', 'at', 'the', 'grocery', 'store', 'have', 'been', 'unpredictable', 'but', 'is', 'eating', 'out', 'a', 'safe', 'alternative', 'find', 'out', 'more', 'about', 'whether', 'you', 'should', 'be', 'avoiding', 'restaurants', 'right', 'now']",
         "3"
        ],
        [
         "16",
         "[]",
         "2"
        ],
        [
         "17",
         "['mar', 'russia', 'consumer', 'surveillance', 'watchdog', 'reported', 'case', 'in', 'high', 'arctic', 'where', 'a', 'man', 'who', 'traveled', 'to', 'iran', 'has', 'covid', 'and', 'are', 'observed']",
         "2"
        ],
        [
         "18",
         "['amazon', 'glitch', 'stymies', 'whole', 'foods', 'fresh', 'grocery', 'deliveries', 'as', 'covid', 'has', 'spread', 'weve', 'seen', 'a', 'significant', 'increase', 'in', 'people', 'shopping', 'online', 'for', 'groceries', 'a', 'spokeswoman', 'said', 'in', 'a', 'statement', 'today', 'this', 'resulted', 'in', 'a', 'systems', 'impact', 'affecting', 'our']",
         "4"
        ],
        [
         "19",
         "['for', 'those', 'who', 'arent', 'struggling', 'please', 'consider', 'donating', 'to', 'a', 'food', 'bank', 'or', 'a', 'nonprofit', 'the', 'demand', 'for', 'these', 'services', 'will', 'increase', 'as', 'covid', 'impacts', 'jobs', 'and', 'peoples', 'way', 'of', 'life']",
         "3"
        ],
        [
         "20",
         "['with', 'nations', 'inficted', 'with', 'covid', 'the', 'world', 'must', 'not', 'play', 'fair', 'with', 'china', 'goverments', 'must', 'demand', 'china', 'adopts', 'new', 'guilde', 'lines', 'on', 'food', 'safty', 'the', 'chinese', 'goverment', 'is', 'guilty', 'of', 'being', 'irosponcible', 'with', 'life', 'on', 'a', 'global', 'scale']",
         "0"
        ],
        [
         "21",
         "['the', 'covid', 'coronavirus', 'pandemic', 'is', 'impacting', 'consumer', 'shopping', 'behavior', 'purchase', 'decisions', 'and', 'retail', 'sales', 'according', 'to', 'a', 'first', 'insight', 'study']",
         "2"
        ],
        [
         "22",
         "['we', 'have', 'amazing', 'cheap', 'deals', 'for', 'the', 'going', 'on', 'to', 'help', 'you', 'and', 'resonable', 'just', 'dm', 'us']",
         "4"
        ],
        [
         "23",
         "['we', 'have', 'amazing', 'cheap', 'deals', 'for', 'the', 'going', 'on', 'to', 'help', 'you', 'and', 'resonable', 'just', 'dm', 'us', 'iptvlinks']",
         "4"
        ],
        [
         "24",
         "['what', 'is', 'being', 'done', 'to', 'ensure', 'food', 'and', 'other', 'essential', 'products', 'are', 'being', 'restocked', 'at', 'supermarkets', 'and', 'panic', 'buying', 'actively', 'discouraged', 'it', 'cannot', 'be', 'left', 'to', 'checkout', 'staff', 'to', 'police', 'the', 'actions', 'of', 'the', 'selfish', 'and', 'profiteer']",
         "1"
        ],
        [
         "25",
         "['uk', 'poll', 'indicates', 'the', 'majority', 'expect', 's', 'impact', 'to', 'last', 'months', 'at', 'march', 'we', 'expect', 'this', 'to', 'increase', 'at', 'the', 'next', 'see', 'full', 'results', 'of', 'the', 'coronavirus', 'consumer', 'confidence', 'tracker', 'here']",
         "4"
        ],
        [
         "26",
         "['in', 'preparation', 'for', 'higher', 'demand', 'and', 'a', 'potential', 'food', 'shortage', 'the', 'hunger', 'coalition', 'purchased', 'percent', 'more', 'food', 'and', 'implemented', 'new', 'protocols', 'due', 'to', 'the', 'covid', 'coronavirus']",
         "1"
        ],
        [
         "27",
         "['this', 'morning', 'i', 'tested', 'positive', 'for', 'covid', 'i', 'feel', 'ok', 'i', 'have', 'no', 'symptoms', 'so', 'far', 'but', 'have', 'been', 'isolated', 'since', 'i', 'found', 'out', 'about', 'my', 'possible', 'exposure', 'to', 'the', 'virus', 'stay', 'home', 'people', 'and', 'be', 'pragmatic', 'i', 'will', 'keep', 'you', 'updated', 'on', 'how', 'im', 'doing', 'no', 'panic']",
         "0"
        ],
        [
         "28",
         "['do', 'you', 'see', 'malicious', 'price', 'increases', 'in', 'nyc', 'the', 'nyc', 'department', 'of', 'consumer', 'and', 'worker', 'protection', 'dcwp', 'has', 'set', 'up', 'a', 'page', 'to', 'digitally', 'file', 'a', 'complaint', 'click', 'here', 'to', 'file', 'a', 'complaint', 'use', 'the', 'wordovercharge']",
         "1"
        ],
        [
         "29",
         "['soon', 'with', 'dwindling', 'supplies', 'unlawful', 'panicky', 'people', 'will', 'be', 'breaking', 'into', 'closed', 'stores', 'amp', 'supermarkets', 'to', 'raid', 'them', 'as', 'they', 'normally', 'do', 'during', 'a', 'crisis', 'so', 'massive', 'as', 'the', 'amplockup']",
         "0"
        ],
        [
         "30",
         "['there', 'is', 'of', 'in', 'the', 'country', 'the', 'more', 'empty', 'shelves', 'people', 'see', 'the', 'more', 'buying', 'ensues', 'the', 'more', 'food', 'is', 'out', 'of', 'stock']",
         "1"
        ],
        [
         "31",
         "['hole', 'foods', 'images', 'from', 'the', 'nicest', 'grocery', 'store', 'in', 'one', 'of', 'the', 'richest', 'neighborhoods', 'in', 'the', 'united', 'states']",
         "4"
        ],
        [
         "32",
         "['retail', 'store', 'closures', 'could', 'explode', 'because', 'of', 'the', 'via']",
         "2"
        ],
        [
         "33",
         "['coronavirus', 'fun', 'fact', 'if', 'you', 'cough', 'at', 'the', 'grocery', 'store', 'you', 'get', 'the', 'whole', 'aisle', 'to', 'yourself', 'pretty', 'quickly']",
         "4"
        ],
        [
         "34",
         "['were', 'sorry', 'to', 'say', 'that', 'our', 'event', 'is', 'being', 'cancelled', 'due', 'to', 'covid', 'the', 'health', 'and', 'wellbeing', 'of', 'our', 'attendees', 'speakers', 'and', 'staff', 'is', 'our', 'top', 'priority', 'apologies', 'for', 'any', 'disappointment', 'this', 'may', 'cause', 'all', 'faqs', 'are', 'answered', 'in', 'the', 'link', 'below']",
         "1"
        ],
        [
         "35",
         "['went', 'to', 'the', 'supermarket', 'yesterday', 'and', 'the', 'toilet', 'paper', 'was', 'gone', 'has', 'this', 'anything', 'to', 'do', 'with', 'the', 'corona', 'virus']",
         "2"
        ],
        [
         "36",
         "['yes', 'buy', 'only', 'what', 'you', 'need', 'but', 'whats', 'the', 'point', 'of', 'posting', 'photos', 'of', 'those', 'people', 'in', 'the', 'supermarket', 'with', 'a', 'load', 'of', 'stuff', 'they', 'could', 'be', 'buying', 'for', 'all', 'their', 'elderly', 'parents', 'kids', 'siblings', 'etc', 'who', 'cant', 'buy', 'for', 'themselves', 'not', 'everything', 'needs', 'to', 'be', 'viral', 'covid', 'alr', 'is']",
         "3"
        ],
        [
         "37",
         "['worried', 'about', 'the', 'impact', 'of', 'the', 'current', 'covid', 'pandemic', 'on', 'your', 'finances', 'weve', 'just', 'published', 'some', 'tips', 'to', 'help', 'you', 'manage', 'your', 'money', 'during', 'these', 'challenging', 'times']",
         "3"
        ],
        [
         "38",
         "['my', 'wife', 'works', 'retailampa', 'customer', 'came', 'in', 'yesterday', 'coughing', 'everywhere', 'saying', 'they', 'have', 'covid', 'they', 'requested', 'a', 'deep', 'clean', 'of', 'the', 'store', 'her', 'company', 'objected', 'to', 'due', 'to', 'cost', 'recommending', 'the', 'team', 'spray', 'disinfectantampclean', 'themselves', 'were', 'gonna', 'dieget', 'sick', 'due', 'to', 'capitalism']",
         "1"
        ],
        [
         "39",
         "['now', 'i', 'can', 'go', 'to', 'the', 'supermarket', 'like', 'this', 'without', 'being', 'judged']",
         "3"
        ],
        [
         "40",
         "['were', 'here', 'to', 'provide', 'a', 'safe', 'shopping', 'experience', 'for', 'our', 'customers', 'and', 'a', 'healthy', 'environment', 'for', 'our', 'associates', 'and', 'community', 'online', 'orders', 'can', 'be', 'placed', 'here']",
         "4"
        ],
        [
         "41",
         "['curious', 'do', 'we', 'think', 'retail', 'shoppers', 'will', 'do', 'a', 'lot', 'of', 'online', 'shopping', 'bc', 'theyre', 'home', 'and', 'unable', 'to', 'go', 'out', 'or', 'do', 'we', 'think', 'everyone', 'is', 'too', 'spooked', 'to', 'get', 'that', 'extra', 'pair', 'of', 'shoes']",
         "3"
        ],
        [
         "42",
         "['check', 'video', 'no', 'food', 'in', 'usa', 'market', 'due', 'to', 'coronavirus', 'panic', 'we', 'gonna', 'die', 'from', 'starvation']",
         "0"
        ],
        [
         "43",
         "['breaking', 'story', 'online', 'clothes', 'shopping', 'rises', 'as', 'people', 'find', 'mysterious', 'white', 'patches', 'forming', 'on', 'clothes']",
         "2"
        ],
        [
         "44",
         "['this', 'is', 'the', 'line', 'outside', 'in', 'as', 'customers', 'wait', 'for', 'the', 'store', 'to', 'open', 'this', 'morning']",
         "2"
        ],
        [
         "45",
         "['south', 'africans', 'stock', 'up', 'on', 'food', 'basic', 'goods', 'as', 'coronavirus', 'panic', 'hits']",
         "1"
        ],
        [
         "46",
         "['please', 'share', 'know', 'someone', 'who', 's', 'living', 'on', 'their', 'own', 'struggling', 'to', 'get', 'their', 'local', 'supermarket', 'due', 'to', 'issues', 'around', 'we', 're', 'offering', 'free', 'deliveries', 'of', 'our', 'healthy', 'soups', 'nationwide', 'to', 'anyone', 'in', 'need', 'plus', 'their', 'freezable']",
         "4"
        ],
        [
         "47",
         "['people', 'posting', 'and', 'sharing', 'photos', 'of', 'of', 'half', 'to', 'completely', 'empty', 'shelves', 'calling', 'those', 'people', 'dumb', 'or', 'idiots', 'all', 'while', 'shopping', 'at', 'the', 'grocery', 'store', 'lol']",
         "3"
        ],
        [
         "48",
         "['never', 'thought', 'id', 'say', 'this', 'but', 'will', 'you', 'come', 'back', 'please']",
         "4"
        ],
        [
         "49",
         "['covid', 'restrictions', 'sparking', 'a', 'run', 'on', 'cannabis', 'stores', 'theyre', 'not', 'closed', 'yet', 'but', 'customers', 'are', 'stocking', 'up', 'on', 'cannabis', 'this', 'weekend', 'preparing', 'for', 'what', 'could', 'be', 'more', 'retail', 'store', 'restrictions', 'in', 'coming', 'days']",
         "2"
        ]
       ],
       "shape": {
        "columns": 2,
        "rows": 41157
       }
      },
      "text/html": [
       "<div>\n",
       "<style scoped>\n",
       "    .dataframe tbody tr th:only-of-type {\n",
       "        vertical-align: middle;\n",
       "    }\n",
       "\n",
       "    .dataframe tbody tr th {\n",
       "        vertical-align: top;\n",
       "    }\n",
       "\n",
       "    .dataframe thead th {\n",
       "        text-align: right;\n",
       "    }\n",
       "</style>\n",
       "<table border=\"1\" class=\"dataframe\">\n",
       "  <thead>\n",
       "    <tr style=\"text-align: right;\">\n",
       "      <th></th>\n",
       "      <th>OriginalTweet</th>\n",
       "      <th>Sentiment</th>\n",
       "    </tr>\n",
       "  </thead>\n",
       "  <tbody>\n",
       "    <tr>\n",
       "      <th>0</th>\n",
       "      <td>[and, and]</td>\n",
       "      <td>2</td>\n",
       "    </tr>\n",
       "    <tr>\n",
       "      <th>1</th>\n",
       "      <td>[advice, talk, to, your, neighbours, family, t...</td>\n",
       "      <td>3</td>\n",
       "    </tr>\n",
       "    <tr>\n",
       "      <th>2</th>\n",
       "      <td>[coronavirus, australia, woolworths, to, give,...</td>\n",
       "      <td>3</td>\n",
       "    </tr>\n",
       "    <tr>\n",
       "      <th>3</th>\n",
       "      <td>[my, food, stock, is, not, the, only, one, whi...</td>\n",
       "      <td>3</td>\n",
       "    </tr>\n",
       "    <tr>\n",
       "      <th>4</th>\n",
       "      <td>[me, ready, to, go, at, supermarket, during, t...</td>\n",
       "      <td>0</td>\n",
       "    </tr>\n",
       "    <tr>\n",
       "      <th>...</th>\n",
       "      <td>...</td>\n",
       "      <td>...</td>\n",
       "    </tr>\n",
       "    <tr>\n",
       "      <th>41152</th>\n",
       "      <td>[airline, pilots, offering, to, stock, superma...</td>\n",
       "      <td>2</td>\n",
       "    </tr>\n",
       "    <tr>\n",
       "      <th>41153</th>\n",
       "      <td>[response, to, complaint, not, provided, citin...</td>\n",
       "      <td>0</td>\n",
       "    </tr>\n",
       "    <tr>\n",
       "      <th>41154</th>\n",
       "      <td>[you, know, its, getting, tough, when, is, rat...</td>\n",
       "      <td>3</td>\n",
       "    </tr>\n",
       "    <tr>\n",
       "      <th>41155</th>\n",
       "      <td>[is, it, wrong, that, the, smell, of, hand, sa...</td>\n",
       "      <td>2</td>\n",
       "    </tr>\n",
       "    <tr>\n",
       "      <th>41156</th>\n",
       "      <td>[well, newused, rift, s, are, going, for, on, ...</td>\n",
       "      <td>1</td>\n",
       "    </tr>\n",
       "  </tbody>\n",
       "</table>\n",
       "<p>41157 rows × 2 columns</p>\n",
       "</div>"
      ],
      "text/plain": [
       "                                           OriginalTweet  Sentiment\n",
       "0                                             [and, and]          2\n",
       "1      [advice, talk, to, your, neighbours, family, t...          3\n",
       "2      [coronavirus, australia, woolworths, to, give,...          3\n",
       "3      [my, food, stock, is, not, the, only, one, whi...          3\n",
       "4      [me, ready, to, go, at, supermarket, during, t...          0\n",
       "...                                                  ...        ...\n",
       "41152  [airline, pilots, offering, to, stock, superma...          2\n",
       "41153  [response, to, complaint, not, provided, citin...          0\n",
       "41154  [you, know, its, getting, tough, when, is, rat...          3\n",
       "41155  [is, it, wrong, that, the, smell, of, hand, sa...          2\n",
       "41156  [well, newused, rift, s, are, going, for, on, ...          1\n",
       "\n",
       "[41157 rows x 2 columns]"
      ]
     },
     "execution_count": 35,
     "metadata": {},
     "output_type": "execute_result"
    }
   ],
   "source": [
    "df"
   ]
  },
  {
   "cell_type": "code",
   "execution_count": null,
   "id": "d06b2bb9",
   "metadata": {},
   "outputs": [],
   "source": [
    "import math\n",
    "def sigmoid(x):\n",
    "    ans = []\n",
    "    for i in range(len(x)):\n",
    "        ans.append(1/(1+(math.exp(-x))))\n",
    "    return ans"
   ]
  },
  {
   "cell_type": "code",
   "execution_count": 39,
   "id": "de18ecaa",
   "metadata": {},
   "outputs": [],
   "source": [
    "def softmax(x):\n",
    "    ans = []\n",
    "    val = 0\n",
    "    for i in range(len(x)):\n",
    "        val += math.exp(i)\n",
    "    for j in range(len(x)):\n",
    "        val2 = math.exp(j)/val\n",
    "        ans.append(val2)\n",
    "    return ans\n",
    "    "
   ]
  },
  {
   "cell_type": "code",
   "execution_count": 40,
   "id": "7cd1f02a",
   "metadata": {},
   "outputs": [],
   "source": [
    "def forward_prop(x): #hre x is a list\n",
    "    sz = len(x)\n",
    "    b1=[]\n",
    "    b2=[]\n",
    "    mat1=[]\n",
    "    mat2=[]\n",
    "    mat3=[]\n",
    "    for i in range(sz):\n",
    "        for j in range(3):\n",
    "            mat1[i][j] = random.randint(0, 100)\n",
    "    for k in range(3):\n",
    "        for l in range(2):\n",
    "            mat1[k][l] = random.randint(0, 100)\n",
    "    for m in range(2):\n",
    "        for n in range(5):\n",
    "            mat1[m][n] = random.randint(0, 100)\n",
    "    b1 = np.random.randint(1, 100, size=3)\n",
    "    b2 = np.random.randint(1, 100, size=2)\n",
    "    b3 = np.random.randint(1, 100, size=5)\n",
    "    a1 = sigmoid((np.dot(mat1.T),x)+b1)\n",
    "    a2 = sigmoid((np.dot(mat2.T),a1)+b2)\n",
    "    a3 = softmax((np.dot(mat3.T),a2)+b3)\n",
    "    return a3\n",
    "\n",
    "\n",
    "\n"
   ]
  },
  {
   "cell_type": "code",
   "execution_count": null,
   "id": "be0a3808",
   "metadata": {},
   "outputs": [],
   "source": []
  }
 ],
 "metadata": {
  "kernelspec": {
   "display_name": "myenv",
   "language": "python",
   "name": "python3"
  },
  "language_info": {
   "codemirror_mode": {
    "name": "ipython",
    "version": 3
   },
   "file_extension": ".py",
   "mimetype": "text/x-python",
   "name": "python",
   "nbconvert_exporter": "python",
   "pygments_lexer": "ipython3",
   "version": "3.10.18"
  }
 },
 "nbformat": 4,
 "nbformat_minor": 5
}

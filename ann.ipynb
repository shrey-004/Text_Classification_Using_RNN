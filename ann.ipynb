{
 "cells": [
  {
   "cell_type": "code",
   "execution_count": 1,
   "id": "1cbe0532",
   "metadata": {},
   "outputs": [],
   "source": [
    "import numpy as np"
   ]
  },
  {
   "cell_type": "code",
   "execution_count": 2,
   "id": "8316ce11",
   "metadata": {},
   "outputs": [],
   "source": [
    "class dense_layer:\n",
    "    def __init__(self , n_input, n_neuron):\n",
    "        self.weights = 0.1*(np.random.randn(n_input, n_neuron))\n",
    "        self.bias = np.zeros(1, n_neuron)\n",
    "\n",
    "    def forward(self , input):\n",
    "        self.ans = np.dot(input, self.weighst)+self.bias"
   ]
  },
  {
   "cell_type": "code",
   "execution_count": 3,
   "id": "53a29128",
   "metadata": {},
   "outputs": [],
   "source": [
    "class softmax_act:\n",
    "    def forward(self , inputs):\n",
    "        expec_value = np.exp(inputs - np.max(inputs , axis = 1 , keepdims = True))\n",
    "        prob = expec_value/np.sum(expec_value, axis = 1, keepdims =True)\n",
    "        self.output = prob"
   ]
  },
  {
   "cell_type": "code",
   "execution_count": 4,
   "id": "8af864ed",
   "metadata": {},
   "outputs": [],
   "source": [
    "class activation_relu:\n",
    "    def forward(self, inputs):\n",
    "        self.output = np.maximum(0, inputs)"
   ]
  },
  {
   "cell_type": "code",
   "execution_count": null,
   "id": "e385aa39",
   "metadata": {},
   "outputs": [],
   "source": [
    "class Loss:\n",
    "    def calculate(self , output, y):\n",
    "        sample_loss = self.forward(output , y)\n",
    "        data_loss = np.mean(sample_loss)\n",
    "        return data_loss"
   ]
  },
  {
   "cell_type": "code",
   "execution_count": 7,
   "id": "78ac2146",
   "metadata": {},
   "outputs": [],
   "source": [
    "class categorical_cross_entropy:\n",
    "    def forward(self, y_pred, y_true):\n",
    "        samples = len(y_pred)\n",
    "        y_pred_clipped = np.clip(y_pred , 1e-7, 1-1e-7)\n",
    "        if len(y_true.shape) == 1:\n",
    "            correct_confidences = y_pred_clipped[\n",
    "            range(samples),\n",
    "            y_true\n",
    "            ]\n",
    "            # Mask values - only for one-hot encoded labels\n",
    "        elif len(y_true.shape) == 2:\n",
    "            correct_confidences = np.sum(\n",
    "            y_pred_clipped*y_true,\n",
    "            axis=1\n",
    "            )\n",
    "            # Losses\n",
    "        negative_log_likelihoods = -np.log(correct_confidences)\n",
    "        return negative_log_likelihoods"
   ]
  },
  {
   "cell_type": "code",
   "execution_count": null,
   "id": "4f62938f",
   "metadata": {},
   "outputs": [],
   "source": []
  }
 ],
 "metadata": {
  "kernelspec": {
   "display_name": "myenv (3.12.3)",
   "language": "python",
   "name": "python3"
  },
  "language_info": {
   "codemirror_mode": {
    "name": "ipython",
    "version": 3
   },
   "file_extension": ".py",
   "mimetype": "text/x-python",
   "name": "python",
   "nbconvert_exporter": "python",
   "pygments_lexer": "ipython3",
   "version": "3.12.3"
  }
 },
 "nbformat": 4,
 "nbformat_minor": 5
}
